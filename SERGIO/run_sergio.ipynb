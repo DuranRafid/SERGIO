{
 "cells": [
  {
   "cell_type": "code",
   "execution_count": 3,
   "metadata": {},
   "outputs": [],
   "source": [
    "from sergio import sergio"
   ]
  },
  {
   "cell_type": "code",
   "execution_count": 4,
   "metadata": {},
   "outputs": [
    {
     "name": "stdout",
     "output_type": "stream",
     "text": [
      "Start Simulating new level\n",
      "There are 3 genes to simulate in this layer\n",
      "Done with current level\n",
      "Start Simulating new level\n",
      "There are 7 genes to simulate in this layer\n",
      "Done with current level\n",
      "Start Simulating new level\n",
      "There are 90 genes to simulate in this layer\n",
      "Done with current level\n"
     ]
    }
   ],
   "source": [
    "sim = sergio(number_genes=100, number_bins = 2, number_sc = 300, noise_params = .4, decays=0.8, sampling_state=15, noise_type='dpd', tol=1e-3)\n",
    "sim.build_graph(input_file_taregts ='../../../Dynamics_simulator/Test_Final_Version/Interaction_G100_cType2_closeConc_forTI.txt', input_file_regs='../../../Dynamics_simulator/Test_Final_Version/Regs_G100_cType2_closeConc_forTI.txt', shared_coop_state=2)\n",
    "\n",
    "sim.simulate()"
   ]
  },
  {
   "cell_type": "code",
   "execution_count": null,
   "metadata": {
    "collapsed": true
   },
   "outputs": [],
   "source": []
  }
 ],
 "metadata": {
  "kernelspec": {
   "display_name": "Python 2",
   "language": "python",
   "name": "python2"
  },
  "language_info": {
   "codemirror_mode": {
    "name": "ipython",
    "version": 2
   },
   "file_extension": ".py",
   "mimetype": "text/x-python",
   "name": "python",
   "nbconvert_exporter": "python",
   "pygments_lexer": "ipython2",
   "version": "2.7.14"
  }
 },
 "nbformat": 4,
 "nbformat_minor": 2
}
